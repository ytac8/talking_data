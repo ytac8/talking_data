{
 "cells": [
  {
   "cell_type": "code",
   "execution_count": 1,
   "metadata": {},
   "outputs": [],
   "source": [
    "import matplotlib.pyplot as plt\n",
    "import pandas as pd\n",
    "import pickle\n",
    "import datetime\n",
    "import seaborn as sns\n",
    "import gc\n",
    "%matplotlib inline"
   ]
  },
  {
   "cell_type": "code",
   "execution_count": 2,
   "metadata": {},
   "outputs": [],
   "source": [
    "with open('../data/pickle/diff_time_data.pkl', mode='rb') as f:\n",
    "    df = pickle.load(f)"
   ]
  },
  {
   "cell_type": "markdown",
   "metadata": {},
   "source": [
    "## Embeddingをやっていく\n",
    "ラベルエンコードが歯抜けになってる部分があるのでこれを辞書に突っ込んでエンコードし直していかないといけないっぽい"
   ]
  },
  {
   "cell_type": "code",
   "execution_count": 5,
   "metadata": {},
   "outputs": [],
   "source": [
    "import torch.nn as nn"
   ]
  },
  {
   "cell_type": "code",
   "execution_count": 6,
   "metadata": {},
   "outputs": [],
   "source": [
    "ip = df.ip.value_counts()\n",
    "ip_index = ip.index.tolist()\n",
    "ip_dictionary = {}\n",
    "i = 0\n",
    "for index in ip_index:\n",
    "    ip_dictionary[index] = i\n",
    "    i += 1"
   ]
  },
  {
   "cell_type": "code",
   "execution_count": 8,
   "metadata": {},
   "outputs": [],
   "source": [
    "ip_embedding = nn.Embedding(len(ip), 50)\n",
    "with open('../data/pickle/Embedding/ip_dict.pkl', 'wb') as f:\n",
    "    pickle.dump(ip_dictionary, f, protocol=-1)\n",
    "with open('../data/pickle/Embedding/ip_emb.pkl', 'wb') as f:\n",
    "    pickle.dump(ip_embedding, f, protocol=-1)"
   ]
  },
  {
   "cell_type": "code",
   "execution_count": 9,
   "metadata": {},
   "outputs": [],
   "source": [
    "app = df.app.value_counts()\n",
    "app_index = app.index.tolist()\n",
    "app_dictionary = {}\n",
    "i = 0\n",
    "for index in app_index:\n",
    "    app_dictionary[index] = i\n",
    "    i += 1"
   ]
  },
  {
   "cell_type": "code",
   "execution_count": 10,
   "metadata": {},
   "outputs": [],
   "source": [
    "os = df.os.value_counts()\n",
    "os_index = os.index.tolist()\n",
    "os_dictionary = {}\n",
    "i = 0\n",
    "for index in os_index:\n",
    "    os_dictionary[index] = i\n",
    "    i += 1"
   ]
  },
  {
   "cell_type": "code",
   "execution_count": 11,
   "metadata": {},
   "outputs": [],
   "source": [
    "channel = df.channel.value_counts()\n",
    "channel_index = channel.index.tolist()\n",
    "channel_dictionary = {}\n",
    "i = 0\n",
    "for index in channel_index:\n",
    "    channel_dictionary[index] = i\n",
    "    i += 1"
   ]
  },
  {
   "cell_type": "code",
   "execution_count": 12,
   "metadata": {},
   "outputs": [],
   "source": [
    "device = df.device.value_counts()\n",
    "device_index = device.index.tolist()\n",
    "device_dictionary = {}\n",
    "i = 0\n",
    "for index in device_index:\n",
    "    device_dictionary[index] = i\n",
    "    i += 1"
   ]
  },
  {
   "cell_type": "code",
   "execution_count": 13,
   "metadata": {},
   "outputs": [],
   "source": [
    "app_embedding = nn.Embedding(len(app), 50)\n",
    "os_embedding = nn.Embedding(len(os), 50)\n",
    "device_embedding = nn.Embedding(len(device), 50)\n",
    "channel_embedding = nn.Embedding(len(channel), 50)"
   ]
  },
  {
   "cell_type": "code",
   "execution_count": 14,
   "metadata": {},
   "outputs": [],
   "source": [
    "with open('../data/pickle/Embedding/app_dict.pkl', 'wb') as f:\n",
    "    pickle.dump(app_dictionary, f, protocol=-1)\n",
    "    \n",
    "with open('../data/pickle/Embedding/os_dict.pkl', 'wb') as f:\n",
    "    pickle.dump(os_dictionary, f, protocol=-1)\n",
    "    \n",
    "with open('../data/pickle/Embedding/device_dict.pkl', 'wb') as f:\n",
    "    pickle.dump(device_dictionary, f, protocol=-1)\n",
    "    \n",
    "with open('../data/pickle/Embedding/channel_dict.pkl', 'wb') as f:\n",
    "    pickle.dump(channel_dictionary, f, protocol=-1)"
   ]
  },
  {
   "cell_type": "code",
   "execution_count": 17,
   "metadata": {},
   "outputs": [],
   "source": [
    "with open('../data/pickle/Embedding/app_emb.pkl', 'wb') as f:\n",
    "    pickle.dump(app_embedding, f, protocol=-1)\n",
    "\n",
    "with open('../data/pickle/Embedding/os_emb.pkl', 'wb') as f:\n",
    "    pickle.dump(os_embedding, f, protocol=-1)\n",
    "\n",
    "with open('../data/pickle/Embedding/device_emb.pkl', 'wb') as f:\n",
    "    pickle.dump(device_embedding, f, protocol=-1)\n",
    "\n",
    "with open('../data/pickle/Embedding/channel_emb.pkl', 'wb') as f:\n",
    "    pickle.dump(channel_embedding, f, protocol=-1)"
   ]
  },
  {
   "cell_type": "markdown",
   "metadata": {},
   "source": [
    "## データをワンホットエンコードするための準備\n",
    "この方針も微妙だった。\n",
    "この辺は使わない\n"
   ]
  },
  {
   "cell_type": "code",
   "execution_count": 3,
   "metadata": {},
   "outputs": [],
   "source": [
    "from sklearn.preprocessing import LabelBinarizer"
   ]
  },
  {
   "cell_type": "code",
   "execution_count": 5,
   "metadata": {},
   "outputs": [],
   "source": [
    "apps = df.app.value_counts().index.tolist()\n",
    "app_lb = LabelBinarizer()\n",
    "app_lb.fit(apps)\n",
    "pickle.dump(app_lb, open(\"../data/pickle/app.pkl\", 'wb'))"
   ]
  },
  {
   "cell_type": "code",
   "execution_count": 6,
   "metadata": {},
   "outputs": [],
   "source": [
    "device = df.device.value_counts().index.tolist()\n",
    "device_lb = LabelBinarizer()\n",
    "device_lb.fit(device)\n",
    "pickle.dump(device_lb, open(\"../data/pickle/device.pkl\", 'wb'))"
   ]
  },
  {
   "cell_type": "code",
   "execution_count": 7,
   "metadata": {},
   "outputs": [],
   "source": [
    "channel = df.channel.value_counts().index.tolist()\n",
    "channel_lb = LabelBinarizer()\n",
    "channel_lb.fit(channel)\n",
    "pickle.dump(channel_lb, open(\"../data/pickle/channel.pkl\", 'wb'))"
   ]
  },
  {
   "cell_type": "code",
   "execution_count": 8,
   "metadata": {},
   "outputs": [],
   "source": [
    "os = df.os.value_counts().index.tolist()\n",
    "os_lb = LabelBinarizer()\n",
    "os_lb.fit(os)\n",
    "pickle.dump(os_lb, open(\"../data/pickle/os.pkl\", 'wb'))"
   ]
  },
  {
   "cell_type": "code",
   "execution_count": null,
   "metadata": {},
   "outputs": [],
   "source": []
  }
 ],
 "metadata": {
  "kernelspec": {
   "display_name": "Python 3",
   "language": "python",
   "name": "python3"
  },
  "language_info": {
   "codemirror_mode": {
    "name": "ipython",
    "version": 3
   },
   "file_extension": ".py",
   "mimetype": "text/x-python",
   "name": "python",
   "nbconvert_exporter": "python",
   "pygments_lexer": "ipython3",
   "version": "3.6.4"
  }
 },
 "nbformat": 4,
 "nbformat_minor": 2
}
